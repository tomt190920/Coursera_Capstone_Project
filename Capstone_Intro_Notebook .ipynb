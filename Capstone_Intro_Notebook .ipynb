{
    "nbformat_minor": 1, 
    "cells": [
        {
            "source": "<div id=\"capstone_project\">\n    <h2>Capstone Project Notebook</h2>\n    <br>\n    Create a new repository on your Github account and name it Coursera_Capstone.\n    <br>\n    Now, start a Jupyter Notebook using any platform that you are comfortable with and do the following:\n    <ol>\n        <li>Write some markdown to explain that this notebook will be mainly used for the capstone project.</li>\n        <li>Import the pandas library as pd.</li>\n        <li>Import the Numpy library as np.</li>\n        <li>Print the following the statement: Hello Capstone Project Course!</li>\n    </ol>\n    Push the Notebook to your Github repository and submit a link to the notebook on your Github repository.\n</div>", 
            "cell_type": "markdown", 
            "metadata": {}
        }, 
        {
            "execution_count": 7, 
            "cell_type": "code", 
            "metadata": {}, 
            "outputs": [], 
            "source": "import pandas as pd\nimport numpy as np "
        }, 
        {
            "execution_count": 9, 
            "cell_type": "code", 
            "metadata": {}, 
            "outputs": [
                {
                    "output_type": "stream", 
                    "name": "stdout", 
                    "text": "Hello Capstone Project Course!\n"
                }
            ], 
            "source": "print('Hello Capstone Project Course!')"
        }, 
        {
            "execution_count": 5, 
            "cell_type": "code", 
            "metadata": {}, 
            "outputs": [], 
            "source": "# The code was removed by Watson Studio for sharing."
        }, 
        {
            "execution_count": null, 
            "cell_type": "code", 
            "metadata": {}, 
            "outputs": [], 
            "source": ""
        }
    ], 
    "metadata": {
        "kernelspec": {
            "display_name": "Python 3.6", 
            "name": "python3", 
            "language": "python"
        }, 
        "language_info": {
            "mimetype": "text/x-python", 
            "nbconvert_exporter": "python", 
            "version": "3.6.8", 
            "name": "python", 
            "file_extension": ".py", 
            "pygments_lexer": "ipython3", 
            "codemirror_mode": {
                "version": 3, 
                "name": "ipython"
            }
        }
    }, 
    "nbformat": 4
}